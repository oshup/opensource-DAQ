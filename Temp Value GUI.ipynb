{
 "cells": [
  {
   "cell_type": "code",
   "execution_count": null,
   "metadata": {},
   "outputs": [],
   "source": [
    "import tkinter as tk\n",
    "import serial\n",
    "import time\n",
    "import numpy as np\n",
    "import threading\n",
    "import continuous_threading"
   ]
  },
  {
   "cell_type": "code",
   "execution_count": null,
   "metadata": {},
   "outputs": [],
   "source": [
    "# set up the serial line\n",
    "ser = serial.Serial('COM5', 9600)\n",
    "time.sleep(2)"
   ]
  },
  {
   "cell_type": "code",
   "execution_count": null,
   "metadata": {},
   "outputs": [],
   "source": [
    "from tkinter import * \n",
    "from matplotlib.figure import Figure\n",
    "from matplotlib.backends.backend_tkagg import (FigureCanvasTkAgg, \n",
    "NavigationToolbar2Tk)\n",
    "\n",
    "\n",
    "val1 = 0\n",
    "\n",
    "index = []\n",
    "\n",
    "def readserial():\n",
    "    global val1\n",
    "    ser_bytes = ser.readline()\n",
    "    ser_bytes = ser_bytes.decode(\"utf-8\")\n",
    "    print(ser_bytes.rstrip())\n",
    "    val1 = ser_bytes\n",
    "    index.append(val1)\n",
    "    \n",
    "    if len(index) == 1:\n",
    "        display1 = tk.Label(window,text=index[0]).place(x=10,y=30)\n",
    "    #elif len(index) == 2:\n",
    "        #display1 = tk.Label(root,text=index[0]).place(x=10,y=10)\n",
    "        #display2 = tk.Label(root,text=index[1]).place(x=20,y=30)\n",
    "\n",
    "        \n",
    "    if len(index) == 2:\n",
    "        #print(\"Done\")\n",
    "        index.clear()\n",
    "    \n",
    "    time.sleep(0.5)\n",
    "\n",
    "t1 = continuous_threading.PeriodicThread(0.5, readserial)\n",
    "\n",
    "window = Tk()\n",
    "\n",
    "\n",
    "\n",
    "#root = tk.Tk()\n",
    "\n",
    "window.geometry(\"300x150\")\n",
    "window.title('Temperature Value GUI')\n",
    "w = tk.Button(window,text=\" Start\", command = t1.start, height= 1, width=5).place(x=10,y=1)\n",
    "w1 = tk.Button(window,text=\"Stop\", command = t1.stop,height= 1, width=5).place(x=10,y=80)\n",
    "w2 = tk.Label(window,text='Temperature (C)').place(x=70,y=30)\n",
    "#t1.start()\n",
    "\n",
    "# run the gui\n",
    "window.mainloop()"
   ]
  },
  {
   "cell_type": "code",
   "execution_count": null,
   "metadata": {},
   "outputs": [],
   "source": []
  },
  {
   "cell_type": "code",
   "execution_count": null,
   "metadata": {},
   "outputs": [],
   "source": []
  }
 ],
 "metadata": {
  "kernelspec": {
   "display_name": "Python 3",
   "language": "python",
   "name": "python3"
  },
  "language_info": {
   "codemirror_mode": {
    "name": "ipython",
    "version": 3
   },
   "file_extension": ".py",
   "mimetype": "text/x-python",
   "name": "python",
   "nbconvert_exporter": "python",
   "pygments_lexer": "ipython3",
   "version": "3.7.6"
  }
 },
 "nbformat": 4,
 "nbformat_minor": 4
}
